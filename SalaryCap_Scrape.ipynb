{
 "cells": [
  {
   "cell_type": "code",
   "execution_count": 20,
   "metadata": {},
   "outputs": [],
   "source": [
    "import requests\n",
    "from bs4 import BeautifulSoup\n",
    "import pandas as pd"
   ]
  },
  {
   "cell_type": "code",
   "execution_count": 18,
   "metadata": {},
   "outputs": [],
   "source": [
    "def scrape_league_cap():\n",
    "    #Create list of leagues\n",
    "    leagues = ['nba', 'nfl', 'mlb']\n",
    "    #Create empty list\n",
    "    df_list = []\n",
    "    for i in leagues:\n",
    "        url = 'https://www.spotrac.com/' + i + '/cba/'\n",
    "        #Scrape the data\n",
    "        response = requests.get(url)\n",
    "        soup = BeautifulSoup(response.text, 'html.parser')\n",
    "        table = soup.find('table')\n",
    "        headers = [th.text.strip() for th in table.find_all('th')]\n",
    "        rows = table.find_all('tr')\n",
    "        data = []\n",
    "        for row in rows[1:]:\n",
    "            cols = row.find_all('td')\n",
    "            cols = [ele.text.strip() for ele in cols]\n",
    "            data.append([ele for ele in cols if ele])\n",
    "        #Create dataframe\n",
    "        df = pd.DataFrame(data, columns=headers)\n",
    "        df_list.append(df)\n",
    "\n",
    "    #Split df_list into individual dataframes\n",
    "    nba_df = df_list[0]\n",
    "    nfl_df = df_list[1]\n",
    "    mlb_df = df_list[2]\n",
    "    return nba_df, nfl_df, mlb_df"
   ]
  },
  {
   "cell_type": "code",
   "execution_count": 97,
   "metadata": {},
   "outputs": [],
   "source": [
    "def clean_dataframes(input_df, league):\n",
    "    df = input_df.copy()\n",
    "    #Set year column as index\n",
    "    df.set_index('Year', inplace=True)\n",
    "    \n",
    "    #Split the Cap columns\n",
    "\n",
    "    if league != 'MLB':\n",
    "        df[['Highest_Cap_Team', 'Cap_Max']] = df['Highest Team Cap'].str.split('\\n', expand=True)\n",
    "        df[['Lowest_Cap_Team', 'Cap_Min']] = df['Lowest Team Cap'].str.split('\\n', expand=True)\n",
    "        df[['Highest_Paid_Player', 'Highest_Player_Salary']] = df['Highest Player Cap'].str.split('\\n', expand=True)\n",
    "        #Drop the original columns that were split\n",
    "        df.drop(['Highest Team Cap', 'Lowest Team Cap', 'Highest Player Cap'], axis=1, inplace=True)\n",
    "        #Rename the 'Cap Maximum' Column\n",
    "        df.rename(columns={'Cap Maximum': 'Salary_Cap'}, inplace=True)\n",
    "        #Change the Cap Change column names\n",
    "        df.rename(columns={'Cap $ +/-': 'Cap_Delta_Dollar', 'Cap % +/-': 'Cap_Delta_Percent',}, inplace=True)\n",
    "    else:\n",
    "        df[['Highest_Cap_Team', 'Cap_Max']] = df['Highest Team Payroll'].str.split('\\n', expand=True)\n",
    "        df[['Lowest_Cap_Team', 'Cap_Min']] = df['Lowest Team Payroll'].str.split('\\n', expand=True)\n",
    "        df[['Highest_Paid_Player', 'Highest_Player_Salary']] = df['Highest Player Payroll'].str.split('\\n', expand=True)\n",
    "        #Drop the original columns that were split\n",
    "        df.drop(['Highest Team Payroll', 'Lowest Team Payroll', 'Highest Player Payroll'], axis=1, inplace=True)\n",
    "        #Rename the 'Cap Maximum' Column\n",
    "        df.rename(columns={'Comp Balanace Tax': 'Comp_Balance'}, inplace=True)\n",
    "        #Change the Cap Change column names\n",
    "        df.rename(columns={'Tax $ +/-': 'Cap_Delta_Dollar', 'Tax % +/-': 'Cap_Delta_Percent',}, inplace=True)\n",
    "\n",
    "    #Change the Cap Change column names\n",
    "    df.rename(columns={'Cap $ +/-': 'Cap_Delta_Dollar', 'Cap % +/-': 'Cap_Delta_Percent',}, inplace=True)\n",
    "\n",
    "    \n",
    "    #Remove the dollar sign and commas from all columns\n",
    "    df = df.replace({'\\$': '', ',': ''}, regex=True)\n",
    "    #Remove the percent sign from the Cap_Delta_Percent column\n",
    "    df['Cap_Delta_Percent'] = df['Cap_Delta_Percent'].str.replace('%', '')\n",
    "    #Convert all columns to numeric except 'Highest_Paid_Player', 'Highest_Cap_Team', 'Lowest_Cap_Team'\n",
    "    df = df.apply(pd.to_numeric, errors='ignore')\n",
    "    df['Cap_Delta_Percent'] = df['Cap_Delta_Percent']/100\n",
    "\n",
    "    #Add string of the league as a prefix to each column\n",
    "    df.columns = [league + '_' + col for col in df.columns]\n",
    "    #Make all the column names lowercase\n",
    "    df.columns = df.columns.str.lower()\n",
    "    return df\n",
    "    "
   ]
  },
  {
   "cell_type": "code",
   "execution_count": 98,
   "metadata": {},
   "outputs": [],
   "source": [
    "nba_df, nfl_df, mlb_df = scrape_league_cap()\n",
    "nba_df = clean_dataframes(nba_df, 'NBA')\n",
    "mlb_df = clean_dataframes(mlb_df, 'MLB')\n",
    "nfl_df = clean_dataframes(nfl_df, 'NFL')"
   ]
  },
  {
   "cell_type": "code",
   "execution_count": 140,
   "metadata": {},
   "outputs": [
    {
     "name": "stdout",
     "output_type": "stream",
     "text": [
      "\n"
     ]
    }
   ],
   "source": [
    "#Merge the nba and mlb dataframes\n",
    "df = pd.merge(nba_df, mlb_df, left_index=True, right_index=True, how='inner')\n",
    "#Merge to the nfl dataframe\n",
    "df = df.merge(nfl_df, how='left')\n",
    "df.to_csv('output/SalaryCap_Full.csv')"
   ]
  },
  {
   "cell_type": "code",
   "execution_count": 141,
   "metadata": {},
   "outputs": [],
   "source": [
    "nba_df.to_csv('output/NBA_SalaryCap.csv')\n",
    "mlb_df.to_csv('output/MLB_SalaryCap.csv')\n",
    "nfl_df.to_csv('output/NFL_SalaryCap.csv')"
   ]
  }
 ],
 "metadata": {
  "kernelspec": {
   "display_name": "base",
   "language": "python",
   "name": "python3"
  },
  "language_info": {
   "codemirror_mode": {
    "name": "ipython",
    "version": 3
   },
   "file_extension": ".py",
   "mimetype": "text/x-python",
   "name": "python",
   "nbconvert_exporter": "python",
   "pygments_lexer": "ipython3",
   "version": "3.8.5"
  },
  "orig_nbformat": 4
 },
 "nbformat": 4,
 "nbformat_minor": 2
}
